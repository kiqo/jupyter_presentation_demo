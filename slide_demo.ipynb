{
 "cells": [
  {
   "cell_type": "markdown",
   "metadata": {
    "slideshow": {
     "slide_type": "slide"
    }
   },
   "source": [
    "## Slide demo to show how jupyter notebook can generate presentations\n",
    "\n",
    "In jupyterlab: On the left toolbar in the 'Property Inspector' tab, the slide type needs to be set."
   ]
  },
  {
   "cell_type": "markdown",
   "metadata": {
    "slideshow": {
     "slide_type": "subslide"
    }
   },
   "source": [
    "### This is a subslide"
   ]
  },
  {
   "cell_type": "code",
   "execution_count": 2,
   "metadata": {
    "slideshow": {
     "slide_type": "subslide"
    }
   },
   "outputs": [
    {
     "name": "stdout",
     "output_type": "stream",
     "text": [
      "Hello!\n"
     ]
    }
   ],
   "source": [
    "### This is another subslide with code\n",
    "print(\"Hello!\")"
   ]
  },
  {
   "cell_type": "markdown",
   "metadata": {
    "slideshow": {
     "slide_type": "slide"
    }
   },
   "source": [
    "# This a slide"
   ]
  },
  {
   "cell_type": "code",
   "execution_count": 3,
   "metadata": {
    "slideshow": {
     "slide_type": "fragment"
    }
   },
   "outputs": [
    {
     "name": "stdout",
     "output_type": "stream",
     "text": [
      "Code fragment\n"
     ]
    }
   ],
   "source": [
    "## This is a code fragment\n",
    "print(\"Code fragment\")"
   ]
  },
  {
   "cell_type": "markdown",
   "metadata": {},
   "source": [
    "### This is a markdown fragment"
   ]
  },
  {
   "cell_type": "code",
   "execution_count": 7,
   "metadata": {
    "slideshow": {
     "slide_type": "skip"
    }
   },
   "outputs": [
    {
     "name": "stdout",
     "output_type": "stream",
     "text": [
      "Skipped code\n"
     ]
    }
   ],
   "source": [
    "## This is skipped\n",
    "print(\"Skipped code\")"
   ]
  },
  {
   "cell_type": "code",
   "execution_count": null,
   "metadata": {},
   "outputs": [],
   "source": [
    "## This does not have a slide type and is therefore not shown!\n",
    "print(\"Not shown as no slide type\")"
   ]
  },
  {
   "cell_type": "markdown",
   "metadata": {
    "slideshow": {
     "slide_type": "notes"
    }
   },
   "source": [
    "## This is a markdown note"
   ]
  },
  {
   "cell_type": "code",
   "execution_count": 5,
   "metadata": {},
   "outputs": [
    {
     "name": "stdout",
     "output_type": "stream",
     "text": [
      "Code note\n"
     ]
    }
   ],
   "source": [
    "## this is a code note\n",
    "print(\"Code note\")"
   ]
  },
  {
   "cell_type": "markdown",
   "metadata": {
    "slideshow": {
     "slide_type": "slide"
    }
   },
   "source": [
    "### How to convert to presentation and serve"
   ]
  },
  {
   "cell_type": "markdown",
   "metadata": {
    "slideshow": {
     "slide_type": "fragment"
    }
   },
   "source": [
    "`jupyter nbconvert slide_demo.ipynb --execute --to slides --post serve`\n",
    "\n",
    "This creates the slide_demo.slides.html file and runs it directly\n",
    "The slide_demo.slides.html can also be opened directly by your browser\n",
    "\n",
    "`jupyter nbconvert slide_demo.ipynb --execute --to pdf`\n",
    "This creates a pdf file out of the presentation but it requires to install the following (for debian-based systems)\n",
    "`sudo apt-get install texlive  texlive-xetex texlive-latex-extra pandoc`"
   ]
  },
  {
   "cell_type": "markdown",
   "metadata": {
    "slideshow": {
     "slide_type": "fragment"
    }
   },
   "source": [
    "### nbconvert options\n",
    "* `--no-prompt` removes the cell numbers (for input and output)\n",
    "* `--no-input` exclude input cells and output prompts from converted document (ideal for code-free presentations)\n",
    "* `--execute` execute notebook before export\n",
    "* `--allow-errors` continue notebook execution even if one of the cells throws an error and include the error message in the cell output (the default behaviour is to abort conversion)\n",
    "* `--help` to see many more options"
   ]
  },
  {
   "cell_type": "markdown",
   "metadata": {
    "slideshow": {
     "slide_type": "slide"
    }
   },
   "source": [
    "## Last slide"
   ]
  }
 ],
 "metadata": {
  "kernelspec": {
   "display_name": "Python 3",
   "language": "python",
   "name": "python3"
  },
  "language_info": {
   "codemirror_mode": {
    "name": "ipython",
    "version": 3
   },
   "file_extension": ".py",
   "mimetype": "text/x-python",
   "name": "python",
   "nbconvert_exporter": "python",
   "pygments_lexer": "ipython3",
   "version": "3.8.2"
  }
 },
 "nbformat": 4,
 "nbformat_minor": 4
}
